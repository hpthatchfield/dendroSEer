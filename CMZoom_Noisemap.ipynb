{
 "cells": [
  {
   "cell_type": "code",
   "execution_count": 2,
   "metadata": {},
   "outputs": [
    {
     "name": "stdout",
     "output_type": "stream",
     "text": [
      "(2800, 19000)\n",
      "starting first fft...\n"
     ]
    },
    {
     "name": "stderr",
     "output_type": "stream",
     "text": [
      "WARNING: psf_pad was set to False, which overrides the boundary='fill' setting. [astropy.convolution.convolve]\n"
     ]
    },
    {
     "name": "stdout",
     "output_type": "stream",
     "text": [
      "starting second fft...\n"
     ]
    },
    {
     "name": "stderr",
     "output_type": "stream",
     "text": [
      "/Users/hph/anaconda/lib/python2.7/site-packages/astropy/convolution/convolve.py:725: RuntimeWarning: divide by zero encountered in true_divide\n",
      "  rifft = (ifftn(fftmult)) / bigimwt\n",
      "/Users/hph/anaconda/lib/python2.7/site-packages/astropy/convolution/convolve.py:725: RuntimeWarning: invalid value encountered in true_divide\n",
      "  rifft = (ifftn(fftmult)) / bigimwt\n"
     ]
    },
    {
     "name": "stdout",
     "output_type": "stream",
     "text": [
      "fft complete!\n"
     ]
    },
    {
     "name": "stderr",
     "output_type": "stream",
     "text": [
      "/Users/hph/anaconda/lib/python2.7/site-packages/ipykernel/__main__.py:39: RuntimeWarning: invalid value encountered in sqrt\n"
     ]
    },
    {
     "name": "stdout",
     "output_type": "stream",
     "text": [
      "Noise map written!\n",
      "complete\n"
     ]
    }
   ],
   "source": [
    "#!/usr/bin/env python2\n",
    "# -*- coding: utf-8 -*-\n",
    "\"\"\"\n",
    "Created on Wed Nov  8 17:51:26 2017\n",
    "\n",
    "@author: hph\n",
    "\"\"\"\n",
    "\n",
    "from astropy.io import fits\n",
    "import numpy as np\n",
    "from astropy.convolution import convolve_fft, Gaussian2DKernel\n",
    "import math\n",
    "import matplotlib.pyplot as plt\n",
    "\n",
    "\n",
    "### Process residuals into a noise map\n",
    "### first off, open the residual file\n",
    "residfile = fits.open('/Users/hph/cmzoom_catalog/catalog_5-14-19/CMZoom_residual_mosaic_without_sgra.fits')\n",
    "### grab data subset (if needed)\n",
    "resid = residfile[0].data[:][:]\n",
    "resid_mask = resid\n",
    "print resid_mask.shape\n",
    "\n",
    "print \"starting first fft...\"\n",
    "smresid = convolve_fft(np.nan_to_num(resid), Gaussian2DKernel(40), psf_pad=False, fft_pad=False, allow_huge=True)\n",
    "#resid[np.isnan(resid)] = 10**9  #make the noise outside very high\n",
    "noise_object = (resid-smresid)**2\n",
    "print \"starting second fft...\"\n",
    "noise_sqr = convolve_fft(noise_object,  Gaussian2DKernel(40), psf_pad=False, fft_pad=False, allow_huge=True)\n",
    "print \"fft complete!\"\n",
    "noise =noise_sqr**0.5\n",
    "\n",
    "### mask out bad pixels with nans\n",
    "noise[~np.isfinite(resid)] = np.nan\n",
    "residfile[0].data = noise\n",
    "### erite modified fits file as noisemap\n",
    "residfile.writeto('/Users/hph/cmzoom_catalog/catalog_5-14-19/CMZoom_noisemap_mosaic_JySr_k20_5-14-19.fits', overwrite=True)\n",
    "print \"Noise map written!\"\n",
    "\n",
    "print \"complete\"\n"
   ]
  },
  {
   "cell_type": "code",
   "execution_count": null,
   "metadata": {
    "collapsed": true
   },
   "outputs": [],
   "source": []
  }
 ],
 "metadata": {
  "kernelspec": {
   "display_name": "Python 3 (ipykernel)",
   "language": "python",
   "name": "python3"
  },
  "language_info": {
   "codemirror_mode": {
    "name": "ipython",
    "version": 3
   },
   "file_extension": ".py",
   "mimetype": "text/x-python",
   "name": "python",
   "nbconvert_exporter": "python",
   "pygments_lexer": "ipython3",
   "version": "3.9.11"
  }
 },
 "nbformat": 4,
 "nbformat_minor": 2
}

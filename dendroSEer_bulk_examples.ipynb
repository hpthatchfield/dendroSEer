{
 "cells": [
  {
   "cell_type": "markdown",
   "id": "b46b879f",
   "metadata": {},
   "source": [
    "**RUNNING dendroSEer FOR LARGE NUMBERS OF FIELDS**\n",
    "\n",
    "This code is an example of how the dendroSEer method can be used to extract catalogs from large sets of images. I'll insert some comments to help you understand the steps, but feel free to reach out to me if you need any more clarification! "
   ]
  },
  {
   "cell_type": "code",
   "execution_count": 8,
   "id": "78671f7d",
   "metadata": {},
   "outputs": [
    {
     "name": "stdout",
     "output_type": "stream",
     "text": [
      "1.20.2\n"
     ]
    }
   ],
   "source": [
    "#import CMZoom_utility as cmz\n",
    "from astropy.io import fits\n",
    "import numpy as np\n",
    "import matplotlib.pyplot as plt\n",
    "from astropy import units as u\n",
    "import astrodendro\n",
    "import os\n",
    "from astropy import wcs\n",
    "from astrodendro import Dendrogram, pp_catalog\n",
    "from astrodendro.analysis import PPStatistic\n",
    "from astropy.table import Table, hstack, Column\n",
    "from astropy.utils.console import ProgressBar\n",
    "import reproject\n",
    "import pandas as pd\n",
    "import h5py\n",
    "from astropy.io import ascii as aascii\n",
    "from astropy.convolution import convolve_fft, Gaussian2DKernel\n",
    "\n",
    "print(np.__version__)\n",
    "%matplotlib inline\n",
    "%config Completer.use_jedi = False\n"
   ]
  },
  {
   "cell_type": "markdown",
   "id": "52810167",
   "metadata": {},
   "source": [
    "From ALMAGAL, we had two types of initial tests: fields with low level emission and injected fake sources and busy fields (lots of real emission) with injected sources. Both sources were just added as a post-processing step. Below is code that is used to construct and analyze these fields as if they were real data.\n",
    "\n",
    "First, the flat fields:"
   ]
  },
  {
   "cell_type": "code",
   "execution_count": 9,
   "id": "6f9444a5",
   "metadata": {},
   "outputs": [],
   "source": [
    "####################################################################\n",
    "\n",
    "### set up paths (you'll need to change these to your directory structure)\n",
    "directory = '/Users/hph/Dropbox/astrophys/almagal_dendrogram/simdata_8_21/4_sources_simul_flat_pb0.5/'\n",
    "savepath = '/Users/hph/Dropbox/astrophys/almagal_dendrogram/simdata_8_21/catalogs/'\n",
    "\n",
    "### these are the identifiers for the flat regions:\n",
    "regnames = ['118969',\n",
    "            '105009',\n",
    "            '103708',\n",
    "            '100662']\n"
   ]
  },
  {
   "cell_type": "code",
   "execution_count": 10,
   "id": "60cafd91",
   "metadata": {},
   "outputs": [
    {
     "name": "stderr",
     "output_type": "stream",
     "text": [
      "WARNING: FITSFixedWarning: 'obsfix' made the change 'Set OBSGEO-L to   -67.754929 from OBSGEO-[XYZ].\n",
      "Set OBSGEO-B to   -23.022886 from OBSGEO-[XYZ].\n",
      "Set OBSGEO-H to     5053.796 from OBSGEO-[XYZ]'. [astropy.wcs.wcs]\n",
      "WARNING: psf_pad was set to False, which overrides the boundary='fill' setting. [astropy.convolution.convolve]\n"
     ]
    },
    {
     "name": "stdout",
     "output_type": "stream",
     "text": [
      "starting first fft...\n",
      "starting second fft...\n",
      "fft complete!\n",
      "Running dendrogram...\n",
      "Computing catalog for 22 structures\n",
      "\n",
      "[=>                                       ] 4%\n",
      "[===>                                     ] 9%\n",
      "[=====>                                   ] 13%\n",
      "[=======>                                 ] 18%\n",
      "[=========>                               ] 22%\n",
      "[==========>                              ] 27%\n",
      "[============>                            ] 31%\n",
      "[==============>                          ] 36%\n",
      "[================>                        ] 40%\n",
      "[==================>                      ] 45%\n",
      "[====================>                    ] 50%\n",
      "[=====================>                   ] 54%\n",
      "[=======================>                 ] 59%\n",
      "[=========================>               ] 63%\n",
      "[===========================>             ] 68%\n",
      "[=============================>           ] 72%\n",
      "[==============================>          ] 77%\n",
      "[================================>        ] 81%\n",
      "[==================================>      ] 86%\n",
      "[====================================>    ] 90%\n",
      "[======================================>  ] 95%\n",
      "[========================================>] 100%\n",
      "[========================================>] 100%\n"
     ]
    },
    {
     "name": "stderr",
     "output_type": "stream",
     "text": [
      "WARNING: AstropyDeprecationWarning: The truth value of a Quantity is ambiguous. In the future this will raise a ValueError. [astropy.units.quantity]\n",
      "WARNING: AstropyDeprecationWarning: The truth value of a Quantity is ambiguous. In the future this will raise a ValueError. [astropy.units.quantity]\n"
     ]
    },
    {
     "name": "stdout",
     "output_type": "stream",
     "text": [
      "starting first fft...\n",
      "starting second fft...\n"
     ]
    },
    {
     "name": "stderr",
     "output_type": "stream",
     "text": [
      "WARNING: FITSFixedWarning: 'obsfix' made the change 'Set OBSGEO-L to   -67.754929 from OBSGEO-[XYZ].\n",
      "Set OBSGEO-B to   -23.022886 from OBSGEO-[XYZ].\n",
      "Set OBSGEO-H to     5053.796 from OBSGEO-[XYZ]'. [astropy.wcs.wcs]\n",
      "WARNING: psf_pad was set to False, which overrides the boundary='fill' setting. [astropy.convolution.convolve]\n"
     ]
    },
    {
     "name": "stdout",
     "output_type": "stream",
     "text": [
      "fft complete!\n",
      "Running dendrogram...\n",
      "Computing catalog for 22 structures\n",
      "\n",
      "[=>                                       ] 4%\n",
      "[===>                                     ] 9%\n",
      "[=====>                                   ] 13%\n",
      "[=======>                                 ] 18%\n",
      "[=========>                               ] 22%\n",
      "[==========>                              ] 27%\n",
      "[============>                            ] 31%\n",
      "[==============>                          ] 36%\n",
      "[================>                        ] 40%\n",
      "[==================>                      ] 45%\n",
      "[====================>                    ] 50%\n",
      "[=====================>                   ] 54%\n",
      "[=======================>                 ] 59%\n",
      "[=========================>               ] 63%\n",
      "[===========================>             ] 68%\n",
      "[=============================>           ] 72%\n",
      "[==============================>          ] 77%\n",
      "[================================>        ] 81%\n",
      "[==================================>      ] 86%\n",
      "[====================================>    ] 90%\n",
      "[======================================>  ] 95%\n",
      "[========================================>] 100%"
     ]
    },
    {
     "name": "stderr",
     "output_type": "stream",
     "text": [
      "WARNING: AstropyDeprecationWarning: The truth value of a Quantity is ambiguous. In the future this will raise a ValueError. [astropy.units.quantity]\n",
      "WARNING: AstropyDeprecationWarning: The truth value of a Quantity is ambiguous. In the future this will raise a ValueError. [astropy.units.quantity]\n"
     ]
    },
    {
     "name": "stdout",
     "output_type": "stream",
     "text": [
      "\n",
      "[========================================>] 100%\n",
      "starting first fft...\n",
      "starting second fft...\n"
     ]
    },
    {
     "name": "stderr",
     "output_type": "stream",
     "text": [
      "WARNING: FITSFixedWarning: 'obsfix' made the change 'Set OBSGEO-L to   -67.754929 from OBSGEO-[XYZ].\n",
      "Set OBSGEO-B to   -23.022886 from OBSGEO-[XYZ].\n",
      "Set OBSGEO-H to     5053.796 from OBSGEO-[XYZ]'. [astropy.wcs.wcs]\n",
      "WARNING: psf_pad was set to False, which overrides the boundary='fill' setting. [astropy.convolution.convolve]\n"
     ]
    },
    {
     "name": "stdout",
     "output_type": "stream",
     "text": [
      "fft complete!\n",
      "Running dendrogram...\n",
      "Computing catalog for 27 structures\n",
      "\n",
      "[=>                                       ] 3%\n",
      "[==>                                      ] 7%\n",
      "[====>                                    ] 11%\n",
      "[=====>                                   ] 14%\n",
      "[=======>                                 ] 18%\n",
      "[========>                                ] 22%\n",
      "[==========>                              ] 25%\n",
      "[===========>                             ] 29%\n",
      "[=============>                           ] 33%\n",
      "[==============>                          ] 37%\n",
      "[================>                        ] 40%\n",
      "[=================>                       ] 44%\n",
      "[===================>                     ] 48%\n",
      "[====================>                    ] 51%\n",
      "[======================>                  ] 55%\n",
      "[=======================>                 ] 59%\n",
      "[=========================>               ] 62%\n",
      "[==========================>              ] 66%\n",
      "[============================>            ] 70%\n",
      "[=============================>           ] 74%\n",
      "[===============================>         ] 77%\n",
      "[================================>        ] 81%\n",
      "[==================================>      ] 85%\n",
      "[===================================>     ] 88%\n",
      "[=====================================>   ] 92%\n",
      "[======================================>  ] 96%\n",
      "[========================================>] 100%\n",
      "[========================================>] 100%\n"
     ]
    },
    {
     "name": "stderr",
     "output_type": "stream",
     "text": [
      "WARNING: AstropyDeprecationWarning: The truth value of a Quantity is ambiguous. In the future this will raise a ValueError. [astropy.units.quantity]\n",
      "WARNING: AstropyDeprecationWarning: The truth value of a Quantity is ambiguous. In the future this will raise a ValueError. [astropy.units.quantity]\n"
     ]
    },
    {
     "name": "stdout",
     "output_type": "stream",
     "text": [
      "starting first fft...\n",
      "starting second fft...\n"
     ]
    },
    {
     "name": "stderr",
     "output_type": "stream",
     "text": [
      "WARNING: FITSFixedWarning: 'obsfix' made the change 'Set OBSGEO-L to   -67.754929 from OBSGEO-[XYZ].\n",
      "Set OBSGEO-B to   -23.022886 from OBSGEO-[XYZ].\n",
      "Set OBSGEO-H to     5053.796 from OBSGEO-[XYZ]'. [astropy.wcs.wcs]\n",
      "WARNING: psf_pad was set to False, which overrides the boundary='fill' setting. [astropy.convolution.convolve]\n"
     ]
    },
    {
     "name": "stdout",
     "output_type": "stream",
     "text": [
      "fft complete!\n",
      "Running dendrogram...\n",
      "Computing catalog for 27 structures\n",
      "\n",
      "[=>                                       ] 3%\n",
      "[==>                                      ] 7%\n",
      "[====>                                    ] 11%\n",
      "[=====>                                   ] 14%\n",
      "[=======>                                 ] 18%\n",
      "[========>                                ] 22%\n",
      "[==========>                              ] 25%\n",
      "[===========>                             ] 29%\n",
      "[=============>                           ] 33%\n",
      "[==============>                          ] 37%\n",
      "[================>                        ] 40%\n",
      "[=================>                       ] 44%\n",
      "[===================>                     ] 48%\n",
      "[====================>                    ] 51%\n",
      "[======================>                  ] 55%\n",
      "[=======================>                 ] 59%\n",
      "[=========================>               ] 62%\n",
      "[==========================>              ] 66%\n",
      "[============================>            ] 70%\n",
      "[=============================>           ] 74%\n",
      "[===============================>         ] 77%\n",
      "[================================>        ] 81%\n",
      "[==================================>      ] 85%\n",
      "[===================================>     ] 88%\n",
      "[=====================================>   ] 92%\n",
      "[======================================>  ] 96%\n",
      "[========================================>] 100%\n",
      "[========================================>] 100%\n"
     ]
    },
    {
     "name": "stderr",
     "output_type": "stream",
     "text": [
      "WARNING: AstropyDeprecationWarning: The truth value of a Quantity is ambiguous. In the future this will raise a ValueError. [astropy.units.quantity]\n",
      "WARNING: AstropyDeprecationWarning: The truth value of a Quantity is ambiguous. In the future this will raise a ValueError. [astropy.units.quantity]\n"
     ]
    },
    {
     "name": "stdout",
     "output_type": "stream",
     "text": [
      "starting first fft...\n",
      "starting second fft...\n"
     ]
    },
    {
     "name": "stderr",
     "output_type": "stream",
     "text": [
      "WARNING: FITSFixedWarning: 'obsfix' made the change 'Set OBSGEO-L to   -67.754929 from OBSGEO-[XYZ].\n",
      "Set OBSGEO-B to   -23.022886 from OBSGEO-[XYZ].\n",
      "Set OBSGEO-H to     5053.796 from OBSGEO-[XYZ]'. [astropy.wcs.wcs]\n",
      "WARNING: psf_pad was set to False, which overrides the boundary='fill' setting. [astropy.convolution.convolve]\n"
     ]
    },
    {
     "name": "stdout",
     "output_type": "stream",
     "text": [
      "fft complete!\n",
      "Running dendrogram...\n",
      "Computing catalog for 25 structures\n",
      "\n",
      "[=>                                       ] 4%\n",
      "[===>                                     ] 8%\n",
      "[====>                                    ] 12%\n",
      "[======>                                  ] 16%\n",
      "[========>                                ] 20%\n",
      "[=========>                               ] 24%\n",
      "[===========>                             ] 28%\n",
      "[============>                            ] 32%\n",
      "[==============>                          ] 36%\n",
      "[================>                        ] 40%\n",
      "[=================>                       ] 44%\n",
      "[===================>                     ] 48%\n",
      "[====================>                    ] 52%\n",
      "[======================>                  ] 56%\n",
      "[========================>                ] 60%\n",
      "[=========================>               ] 64%\n",
      "[===========================>             ] 68%\n",
      "[============================>            ] 72%\n",
      "[==============================>          ] 76%\n",
      "[================================>        ] 80%\n",
      "[=================================>       ] 84%\n",
      "[===================================>     ] 88%\n",
      "[====================================>    ] 92%\n",
      "[======================================>  ] 96%\n",
      "[========================================>] 100%\n",
      "[========================================>] 100%\n"
     ]
    },
    {
     "name": "stderr",
     "output_type": "stream",
     "text": [
      "WARNING: AstropyDeprecationWarning: The truth value of a Quantity is ambiguous. In the future this will raise a ValueError. [astropy.units.quantity]\n",
      "WARNING: AstropyDeprecationWarning: The truth value of a Quantity is ambiguous. In the future this will raise a ValueError. [astropy.units.quantity]\n"
     ]
    },
    {
     "name": "stdout",
     "output_type": "stream",
     "text": [
      "starting first fft...\n",
      "starting second fft...\n",
      "fft complete!\n"
     ]
    },
    {
     "name": "stderr",
     "output_type": "stream",
     "text": [
      "WARNING: FITSFixedWarning: 'obsfix' made the change 'Set OBSGEO-L to   -67.754929 from OBSGEO-[XYZ].\n",
      "Set OBSGEO-B to   -23.022886 from OBSGEO-[XYZ].\n",
      "Set OBSGEO-H to     5053.796 from OBSGEO-[XYZ]'. [astropy.wcs.wcs]\n",
      "WARNING: psf_pad was set to False, which overrides the boundary='fill' setting. [astropy.convolution.convolve]\n"
     ]
    },
    {
     "name": "stdout",
     "output_type": "stream",
     "text": [
      "Running dendrogram...\n",
      "Computing catalog for 26 structures\n",
      "\n",
      "[=>                                       ] 3%\n",
      "[===>                                     ] 7%\n",
      "[====>                                    ] 11%\n",
      "[======>                                  ] 15%\n",
      "[=======>                                 ] 19%\n",
      "[=========>                               ] 23%\n",
      "[==========>                              ] 26%\n",
      "[============>                            ] 30%\n",
      "[=============>                           ] 34%\n",
      "[===============>                         ] 38%\n",
      "[================>                        ] 42%\n",
      "[==================>                      ] 46%\n",
      "[====================>                    ] 50%\n",
      "[=====================>                   ] 53%\n",
      "[=======================>                 ] 57%\n",
      "[========================>                ] 61%\n",
      "[==========================>              ] 65%\n",
      "[===========================>             ] 69%\n",
      "[=============================>           ] 73%\n",
      "[==============================>          ] 76%\n",
      "[================================>        ] 80%\n",
      "[=================================>       ] 84%\n",
      "[===================================>     ] 88%\n",
      "[====================================>    ] 92%\n",
      "[======================================>  ] 96%\n",
      "[=======================================> ] 99%\n",
      "[========================================>] 100%\n"
     ]
    },
    {
     "name": "stderr",
     "output_type": "stream",
     "text": [
      "WARNING: AstropyDeprecationWarning: The truth value of a Quantity is ambiguous. In the future this will raise a ValueError. [astropy.units.quantity]\n",
      "WARNING: AstropyDeprecationWarning: The truth value of a Quantity is ambiguous. In the future this will raise a ValueError. [astropy.units.quantity]\n",
      "WARNING: FITSFixedWarning: 'obsfix' made the change 'Set OBSGEO-L to   -67.754929 from OBSGEO-[XYZ].\n",
      "Set OBSGEO-B to   -23.022886 from OBSGEO-[XYZ].\n",
      "Set OBSGEO-H to     5053.796 from OBSGEO-[XYZ]'. [astropy.wcs.wcs]\n"
     ]
    },
    {
     "name": "stdout",
     "output_type": "stream",
     "text": [
      "starting first fft...\n",
      "starting second fft...\n",
      "fft complete!\n",
      "Running dendrogram...\n",
      "Computing catalog for 14 structures\n",
      "\n",
      "[==>                                      ] 7%\n",
      "[=====>                                   ] 14%\n",
      "[========>                                ] 21%\n",
      "[===========>                             ] 28%\n",
      "[==============>                          ] 35%\n",
      "[=================>                       ] 42%\n",
      "[====================>                    ] 50%\n",
      "[======================>                  ] 57%\n",
      "[=========================>               ] 64%\n",
      "[============================>            ] 71%\n",
      "[===============================>         ] 78%"
     ]
    },
    {
     "name": "stderr",
     "output_type": "stream",
     "text": [
      "WARNING: psf_pad was set to False, which overrides the boundary='fill' setting. [astropy.convolution.convolve]\n",
      "WARNING: AstropyDeprecationWarning: The truth value of a Quantity is ambiguous. In the future this will raise a ValueError. [astropy.units.quantity]\n",
      "WARNING: AstropyDeprecationWarning: The truth value of a Quantity is ambiguous. In the future this will raise a ValueError. [astropy.units.quantity]\n"
     ]
    },
    {
     "name": "stdout",
     "output_type": "stream",
     "text": [
      "\n",
      "[==================================>      ] 85%\n",
      "[=====================================>   ] 92%\n",
      "[=======================================> ] 99%\n",
      "[========================================>] 100%\n",
      "starting first fft...\n",
      "starting second fft...\n",
      "fft complete!\n",
      "Running dendrogram...\n",
      "Computing catalog for 13 structures\n",
      "\n",
      "[===>                                     ] 7%\n",
      "[======>                                  ] 15%\n",
      "[=========>                               ] 23%\n",
      "[============>                            ] 30%\n",
      "[===============>                         ] 38%\n",
      "[==================>                      ] 46%\n",
      "[=====================>                   ] 53%\n",
      "[========================>                ] 61%\n",
      "[===========================>             ] 69%\n",
      "[==============================>          ] 76%\n",
      "[=================================>       ] 84%\n",
      "[====================================>    ] 92%\n",
      "[========================================>] 100%\n",
      "[========================================>] 100%"
     ]
    },
    {
     "name": "stderr",
     "output_type": "stream",
     "text": [
      "WARNING: FITSFixedWarning: 'obsfix' made the change 'Set OBSGEO-L to   -67.754929 from OBSGEO-[XYZ].\n",
      "Set OBSGEO-B to   -23.022886 from OBSGEO-[XYZ].\n",
      "Set OBSGEO-H to     5053.796 from OBSGEO-[XYZ]'. [astropy.wcs.wcs]\n",
      "WARNING: psf_pad was set to False, which overrides the boundary='fill' setting. [astropy.convolution.convolve]\n",
      "WARNING: AstropyDeprecationWarning: The truth value of a Quantity is ambiguous. In the future this will raise a ValueError. [astropy.units.quantity]\n",
      "WARNING: AstropyDeprecationWarning: The truth value of a Quantity is ambiguous. In the future this will raise a ValueError. [astropy.units.quantity]\n"
     ]
    },
    {
     "name": "stdout",
     "output_type": "stream",
     "text": [
      "\n"
     ]
    }
   ],
   "source": [
    "### total arrays to store the information\n",
    "### let me explain my naming scheme... \n",
    "\n",
    "### t is for \"total\", as in these are the arrays for the total collection (iffy choice on my part)\n",
    "\n",
    "### 6 or 9 represents the flux level of injected sources\n",
    "###   (I don't think this number actually corresponds to anything, just lower or higher)\n",
    "\n",
    "### fluxerr will store the relative error for the flux of each extracted source\n",
    "### this is defined as (F_d - F_0) / F_d (F_d is dendrogram flux, F_0 is true flux)\n",
    "t_6_fluxerr = np.empty(0)\n",
    "\n",
    "### n is the total number of sources recovered\n",
    "t_6_n = np.empty(0)\n",
    "\n",
    "### bgfluxerr is the background subtracted version of fluxerr\n",
    "t_6_bgfluxerr = np.empty(0)\n",
    "\n",
    "### regname is just the specific region identifier (this might not be necessary but was convenient for me)\n",
    "t_6_regname = np.empty(0)\n",
    "\n",
    "### this represents the specific source ID for each of the injected sources \n",
    "t_6_sourceID = np.empty(0)\n",
    "\n",
    "### the x position of each source\n",
    "t_6_x = np.empty(0)\n",
    "\n",
    "### the y position of each source\n",
    "t_6_y = np.empty(0)\n",
    "\n",
    "### the \n",
    "t_6_dr = np.empty(0)\n",
    "\n",
    "### the extracted dendrogram flux for each source\n",
    "t_6_dendroflux = np.empty(0)\n",
    "\n",
    "### the extracted background flux for each source\n",
    "t_6_bgflux = np.empty(0)\n",
    "\n",
    "### the real flux for each source (from the table)\n",
    "t_6_trueflux = np.empty(0)\n",
    "\n",
    "### the error in the effective size (FWHM vs dendrogram leaf size)\n",
    "t_6_dfwhm = np.empty(0)\n",
    "\n",
    "### then we define all the same storage arrays for the other field (there's probably a better way to do this)\n",
    "t_9_fluxerr = np.empty(0)\n",
    "t_9_n = np.empty(0)\n",
    "t_9_bgfluxerr = np.empty(0)\n",
    "t_9_regname = np.empty(0)\n",
    "t_9_sourceID = np.empty(0)\n",
    "t_9_x = np.empty(0)\n",
    "t_9_y = np.empty(0)\n",
    "t_9_dr = np.empty(0)\n",
    "t_9_dendroflux = np.empty(0)\n",
    "t_9_bgflux = np.empty(0)\n",
    "t_9_trueflux = np.empty(0)\n",
    "t_9_dfwhm = np.empty(0)\n",
    "\n",
    "### define dendrogram parameters\n",
    "dend_min_v = 3.0\n",
    "dend_min_d = 0.1\n",
    "dend_min_pix = 15\n",
    "\n",
    "### first, we loop through the regions\n",
    "for ri, regname in enumerate(regnames):\n",
    "    ### then, we loop through the flux levels for each regions (a bit silly for 2, but you can scale it up)\n",
    "    for fi, fluxlevel in enumerate(['9.00000','6.00000']):\n",
    "        ### read in the source only image and load data into an array\n",
    "        sources = fits.open(directory+regname+'_cont_7MTM2_jointdeconv.image_'+fluxlevel+'_sources.fits')\n",
    "        sdata = sources[0].data[:,:]\n",
    "\n",
    "        ### read the table of injected sources\n",
    "        sfile = pd.read_csv(directory+regname+'_cont_7MTM2_jointdeconv.image_sourcepar_'+fluxlevel+'.dat',\n",
    "                           header=6,delim_whitespace=True)\n",
    "        sfile = sfile.drop([0,1]).astype(float)\n",
    "\n",
    "        ### read in the simulated image and load data into array\n",
    "        almasim = fits.open(directory+regname+'_cont_7MTM2_jointdeconv.image_'+fluxlevel+'_simul.fits')\n",
    "        data = almasim[0].data[:,:]\n",
    "        HeaderMod = almasim[0].header\n",
    "        ### grab the WCS too!\n",
    "        mywcs = wcs.WCS(HeaderMod)\n",
    "\n",
    "        ### Process residuals into a noise map by convolving with Gaussian Kernel (size relative to beam)\n",
    "        residfile = fits.open(directory+regname+'_cont_7MTM2_jointdeconv.residual.fits')\n",
    "        imagelength = residfile[0].data[:][:].size\n",
    "        resid = residfile[0].data[:][:]\n",
    "        resid_mask = resid\n",
    "        print(\"starting first fft...\")\n",
    "        smresid = convolve_fft(np.nan_to_num(resid), Gaussian2DKernel(15), psf_pad=False, fft_pad=False, allow_huge=True)\n",
    "        noise_object = (resid-smresid)**2\n",
    "        print(\"starting second fft...\")\n",
    "        noise_sqr = convolve_fft(noise_object,  Gaussian2DKernel(15), psf_pad=False, fft_pad=False, allow_huge=True)\n",
    "        print(\"fft complete!\")\n",
    "        noisemap =noise_sqr**0.5\n",
    "        noisemap[~np.isfinite(resid)] = np.nan\n",
    "\n",
    "        ### specify dendrogram parameters for flat image\n",
    "        ### first, define our noise level (in this case, from the kind of unrealistic residuals)\n",
    "        noise=np.nanmean(np.abs(resid))\n",
    "        ### run dendroSEer\n",
    "        print( \"Running dendrogram...\")\n",
    "        dend = astrodendro.Dendrogram.compute(data, min_value=float(dend_min_v)*noise, min_delta=float(dend_min_d)*noise,\n",
    "                                              min_npix=dend_min_pix,\n",
    "                                              wcs=mywcs)\n",
    "\n",
    "        PixelAreaArcsec = 3600. * abs(HeaderMod['CDELT1']) * 3600. * abs(HeaderMod['CDELT2'])\n",
    "        Metadata = {}\n",
    "        Metadata['data_unit'] = u.Jy/u.beam\n",
    "        Metadata['spatial_scale'] =  PixelAreaArcsec**0.5 * u.arcsec\n",
    "        Metadata['beam_major'] = HeaderMod['BMAJ']*u.deg\n",
    "        Metadata['beam_minor'] = HeaderMod['BMIN']*u.deg\n",
    "        beam_omega_deg2 = HeaderMod['BMAJ']*HeaderMod['BMIN']*np.pi/(4*np.log(2))\n",
    "        pix_area_deg2 = abs(HeaderMod['CDELT1']) * abs(HeaderMod['CDELT2'])\n",
    "        pix_per_beam = beam_omega_deg2/pix_area_deg2\n",
    "        as_per_pix = (np.abs(HeaderMod['CDELT1'])*3600)\n",
    "\n",
    "        catalog = astrodendro.pp_catalog(dend, Metadata)\n",
    "        catalog.rename_column('_idx', 'index')\n",
    "        catalog.rename_column('flux', 'flux_integrated')\n",
    "\n",
    "        keys = ['is_leaf', 'peak_cont_flux', 'min_cont_flux', 'mean_cont_flux','npix','mask']\n",
    "        columns = {k:[] for k in (keys)}\n",
    "        for ii, row in enumerate(ProgressBar(catalog)):\n",
    "            structure = dend[row['index']]\n",
    "            assert structure.idx == row['index'] == ii\n",
    "            dend_inds = structure.indices()\n",
    "            columns['is_leaf'].append(structure.is_leaf)\n",
    "            peakflux = data[dend_inds].max()\n",
    "            minflux = data[dend_inds].min()\n",
    "            numpix = np.shape(dend_inds)[1]\n",
    "            columns['peak_cont_flux'].append(peakflux)\n",
    "            columns['min_cont_flux'].append(data[dend_inds].min())\n",
    "            columns['mean_cont_flux'].append(data[dend_inds].mean())\n",
    "            columns['npix'].append(numpix)\n",
    "            columns['mask'].append(0)\n",
    "\n",
    "        for k in columns:\n",
    "                if k not in catalog.keys():\n",
    "                    catalog.add_column(Column(name=k, data=columns[k]))\n",
    "\n",
    "        cat_mask = (catalog['is_leaf'])\n",
    "        leafcat = catalog[cat_mask]\n",
    "        leafmask = dend.index_map.copy()\n",
    "\n",
    "        for ii in ProgressBar(list(range(len(catalog)))):\n",
    "            if ii not in leafcat['index']:\n",
    "                leafmask[leafmask == ii] = -1\n",
    "        \n",
    "        ### from the source file for the true sources, load in the x and y coordinates for each source. \n",
    "        sxs, sys = np.array(sfile['|X'],dtype=int), np.array(sfile['|Y'],dtype=int)\n",
    "        ### likewise load in the FWHM\n",
    "        sxfwhms, syfwhms = np.array(sfile['|FWHM_X'],dtype=float), np.array(sfile['|FWHM_Y'],dtype=float)\n",
    "        ### identify which, if any mask number from the catalog corresponds to those coordinates\n",
    "        true_maski = leafmask[sys,sxs]\n",
    "        ### set up some temporary storage arays\n",
    "        dendro_flux=np.empty(0)\n",
    "        true_flux=np.empty(0)\n",
    "        fluxerr=np.empty(0)\n",
    "        fluxerr_bgsub=np.empty(0)\n",
    "        bg_flux=np.empty(0)\n",
    "\n",
    "        ### now we loop through all the real sources \n",
    "        for i, index in enumerate(true_maski):\n",
    "            ### we only care if the mask number is nonzero (meaning there's a leaf there)\n",
    "            if true_maski[i]>=0:\n",
    "                ### handle the cases for different fluxes separately (there's probably a better way to do this...)\n",
    "                if fluxlevel=='6.00000':\n",
    "                    t_6_regname = np.append(t_6_regname,regname)\n",
    "                    t_6_sourceID = np.append(t_6_sourceID,i+1)\n",
    "                    t_6_x = np.append(t_6_x,sxs[i])\n",
    "                    t_6_y = np.append(t_6_y,sys[i])\n",
    "                    ### get a mean FWHM from the real source\n",
    "                    true_fwhm = (sxfwhms[i]+syfwhms[i])/2.\n",
    "                    ### get an \"effective\" FWHM from the dendrogram leaf\n",
    "                    dendro_fwhm = 2*np.sqrt(2*np.log(2))*((leafcat['major_sigma'][leafcat['index']==index]+leafcat['minor_sigma'][leafcat['index']==index])/2.)\n",
    "                    ### calculate your error and store it\n",
    "                    t_6_dfwhm = np.append(t_6_dfwhm, (true_fwhm - dendro_fwhm)/true_fwhm)\n",
    "                    ### also record the positional centroid error! \n",
    "                    t_6_dr = np.append(t_6_dr,np.sqrt((leafcat['x_cen'][leafcat['index']==index]-sxs[i])**2 + (leafcat['y_cen'][leafcat['index']==index]-sys[i])**2))\n",
    "                if fluxlevel=='9.00000':\n",
    "                    t_9_regname = np.append(t_9_regname,regname)\n",
    "                    t_9_sourceID = np.append(t_9_sourceID,i+1)\n",
    "                    t_9_x = np.append(t_9_x,sxs[i])\n",
    "                    t_9_y = np.append(t_9_y,sys[i])\n",
    "                    true_fwhm = (sxfwhms[i]+syfwhms[i])/2.\n",
    "                    dendro_fwhm = 2*np.sqrt(2*np.log(2))*((leafcat['major_sigma'][leafcat['index']==index]+leafcat['minor_sigma'][leafcat['index']==index])/2.)\n",
    "                    t_9_dfwhm = np.append(t_9_dfwhm, (true_fwhm - dendro_fwhm)/true_fwhm)\n",
    "                    t_9_dr = np.append(t_9_dr,np.sqrt((leafcat['x_cen'][leafcat['index']==index]-sxs[i])**2 + (leafcat['y_cen'][leafcat['index']==index]-sys[i])**2))\n",
    "                ### Now, look to the fluxes for each and calculate errors\n",
    "                ### First, the background flux. We use an empirical factor of 0.3 here because our\n",
    "                ### background estimation is overly simple and the simulation method makes it difficult to\n",
    "                ### appropriately etimate the background from the residuals\n",
    "                bg_flux = np.append(bg_flux,0.3*np.min(data[np.where(leafmask==index)])*leafcat['npix'][np.where(leafcat['index']==index)].data/pix_per_beam)\n",
    "                ### important note, we ammend the dendrogram flux with a factor of 1.8 representing the difference\n",
    "                ### between the dendrogram leaf, which we assume represents the FWHM contour (very rough assumption)\n",
    "                ### and so we need a geometrical factor to compare it to a gaussian integrated to infinity (like in the table)\n",
    "                dendro_flux = np.append(dendro_flux,1.8*leafcat['flux_integrated'][leafcat['index']==index])\n",
    "                true_flux = np.append(true_flux,sfile['|F_int'].iloc[i])\n",
    "                fluxerr = np.append(fluxerr,(dendro_flux[-1]-true_flux[-1])/dendro_flux[-1])\n",
    "                fluxerr_bgsub = np.append(fluxerr_bgsub,((dendro_flux[-1]-bg_flux[-1])-true_flux[-1])/(dendro_flux[-1]-bg_flux[-1]))\n",
    "        ### append these arrays to the total arrays\n",
    "        if fluxlevel=='9.00000':\n",
    "            t_9_dendroflux=np.append(t_9_dendroflux,dendro_flux)\n",
    "            t_9_bgflux=np.append(t_9_bgflux,bg_flux)\n",
    "            t_9_trueflux=np.append(t_9_trueflux,true_flux)\n",
    "            t_9_bgfluxerr=np.append(t_9_bgfluxerr,fluxerr_bgsub)\n",
    "            t_9_fluxerr=np.append(t_9_fluxerr,fluxerr)\n",
    "            t_9_n=np.append(t_9_n,np.sum(true_maski>=0))\n",
    "        if fluxlevel=='6.00000':\n",
    "            t_6_dendroflux=np.append(t_6_dendroflux,dendro_flux)\n",
    "            t_6_bgflux=np.append(t_6_bgflux,bg_flux)\n",
    "            t_6_trueflux=np.append(t_6_trueflux,true_flux)\n",
    "            t_6_bgfluxerr=np.append(t_6_bgfluxerr,fluxerr_bgsub)\n",
    "            t_6_fluxerr=np.append(t_6_fluxerr,fluxerr)\n",
    "            t_6_n=np.append(t_6_n,np.sum(true_maski>=0))\n"
   ]
  },
  {
   "cell_type": "code",
   "execution_count": null,
   "id": "4f5068b8",
   "metadata": {},
   "outputs": [],
   "source": [
    "### The save catalog as ascii file\n",
    "### if you change parameters, you ought to change the file names to match!! Or come up with your own naming convention\n",
    "###\n",
    "fcomment = 'column descriptions: \\n reg_name: region ID. \\n source_index: source ID from table. \\n X center from the table. \\n Y center from the table. \\n dendro_flux: flux measured by astrodendro (F). \\n bg_flux: background flux used for subtraction. \\n true_flux: flux listed in the source table (F_0). \\n flux_err: flux discrepency, (F_0-F) / F_0 \\n flux_err_bgsub: background subtracted flux discrepency, (F_0-F_bgs) / F_0'\n",
    "aascii.write([np.array(t_9_regname),np.array(t_9_sourceID),np.array(t_9_x), np.array(t_9_y), np.array(t_9_dendroflux), np.array(t_9_bgflux), np.array(t_9_trueflux), np.array(t_9_fluxerr), np.array(t_9_bgfluxerr)], \n",
    "             savepath+'sourcecatalog_flat_f9.00000_ndm_v3_d1.5_p15.dat', \n",
    "             names=['reg_name','source_index','X', 'Y', 'dendro_flux','bg_flux','true_flux','flux_err','flux_err_bgsub'], overwrite=True,\n",
    "             comment = fcomment)\n",
    "aascii.write([np.array(t_6_regname),np.array(t_6_sourceID),np.array(t_6_x), np.array(t_6_y), np.array(t_6_dendroflux), np.array(t_6_bgflux), np.array(t_6_trueflux), np.array(t_6_fluxerr), np.array(t_6_bgfluxerr)], \n",
    "             savepath+'sourcecatalog_flat_f6.00000_ndm_v3_d1.5_p15.dat', \n",
    "             names=['reg_name','source_index','X', 'Y', 'dendro_flux','bg_flux','true_flux','flux_err','flux_err_bgsub'], overwrite=True,\n",
    "             comment = fcomment)"
   ]
  },
  {
   "cell_type": "code",
   "execution_count": null,
   "id": "bb657d2a",
   "metadata": {},
   "outputs": [],
   "source": [
    "### now we plot! "
   ]
  },
  {
   "cell_type": "code",
   "execution_count": 11,
   "id": "9b5f07b5",
   "metadata": {},
   "outputs": [
    {
     "data": {
      "text/plain": [
       "<matplotlib.legend.Legend at 0x7fdb63cdb760>"
      ]
     },
     "execution_count": 11,
     "metadata": {},
     "output_type": "execute_result"
    },
    {
     "data": {
      "image/png": "[encoded data removed]",
      "text/plain": [
       "<Figure size 720x216 with 2 Axes>"
      ]
     },
     "metadata": {
      "needs_background": "light"
     },
     "output_type": "display_data"
    }
   ],
   "source": [
    "### first, let's plot the flux errors:\n",
    "plt.close()\n",
    "fig,axes=plt.subplots(nrows=1,ncols=2,figsize=(10,3))\n",
    "ax=axes[0]\n",
    "ax.hist(t_6_fluxerr,bins=np.linspace(-10,2,30),alpha=0.5,color='tomato',label='total flux')\n",
    "ax.hist(t_6_fluxerr,bins=np.linspace(-10,2,30),alpha=1.0,color='k',histtype='step',lw=1.2)\n",
    "ax.hist(t_6_bgfluxerr,bins=np.linspace(-10,2,30),alpha=0.5,color='cornflowerblue',label='bg. sub. flux')\n",
    "ax.hist(t_6_bgfluxerr,bins=np.linspace(-10,2,30),alpha=1.0,color='k',histtype='step',lw=1.2)\n",
    "ax.set_title('flux level \\'\\'6$\\sigma$\\'\\'')\n",
    "ax.set_xlabel('Flux error (F-F$_0$/F)')\n",
    "ax.set_ylabel('Counts')\n",
    "ax.legend()\n",
    "\n",
    "ax=axes[1]\n",
    "ax.hist(t_9_fluxerr,bins=np.linspace(-10,2,30),alpha=0.5,color='tomato',label='total flux')\n",
    "ax.hist(t_9_fluxerr,bins=np.linspace(-10,2,30),alpha=1.0,color='k',histtype='step',lw=1.2)\n",
    "ax.hist(t_9_bgfluxerr,bins=np.linspace(-10,2,30),alpha=0.5,color='cornflowerblue',label='bg. sub. flux')\n",
    "ax.hist(t_9_bgfluxerr,bins=np.linspace(-10,2,30),alpha=1.0,color='k',histtype='step',lw=1.2)\n",
    "ax.set_xlabel('Flux error (F-F$_0$/F)')\n",
    "ax.set_ylabel('Counts')\n",
    "ax.set_title('flux level \\'\\'9$\\sigma$\\'\\'')\n",
    "ax.legend()"
   ]
  },
  {
   "cell_type": "code",
   "execution_count": 12,
   "id": "43e93967",
   "metadata": {},
   "outputs": [
    {
     "data": {
      "text/plain": [
       "<matplotlib.legend.Legend at 0x7fdb647c9ee0>"
      ]
     },
     "execution_count": 12,
     "metadata": {},
     "output_type": "execute_result"
    },
    {
     "data": {
      "image/png": "[encoded data removed]",
      "text/plain": [
       "<Figure size 720x216 with 2 Axes>"
      ]
     },
     "metadata": {
      "needs_background": "light"
     },
     "output_type": "display_data"
    }
   ],
   "source": [
    "### Plot positional error in the centroids:\n",
    "plt.close()\n",
    "fig,axes=plt.subplots(nrows=1,ncols=2,figsize=(10,3))\n",
    "ax=axes[0]\n",
    "ax.hist(t_6_dr,bins=np.linspace(0,10,10),alpha=0.5,color='green',label='leaf centroid error')\n",
    "ax.hist(t_6_dr,bins=np.linspace(0,10,10),alpha=0.9,color='k',histtype='step',lw=1.2)\n",
    "ax.set_title('flux level \\'\\'6$\\sigma$\\'\\'')\n",
    "ax.set_xlabel('pixels')\n",
    "ax.set_ylabel('counts')\n",
    "ax.legend()\n",
    "\n",
    "ax=axes[1]\n",
    "ax.hist(t_9_dr,bins=np.linspace(0,10,10),alpha=0.5,color='green',label='leaf centroid error')\n",
    "ax.hist(t_9_dr,bins=np.linspace(0,10,10),alpha=0.9,color='k',histtype='step',lw=1.2)\n",
    "ax.set_title('flux level \\'\\'9$\\sigma$\\'\\'')\n",
    "ax.set_xlabel('pixels')\n",
    "ax.set_ylabel('counts')\n",
    "ax.legend()"
   ]
  },
  {
   "cell_type": "code",
   "execution_count": 14,
   "id": "14a136f4",
   "metadata": {},
   "outputs": [
    {
     "data": {
      "text/plain": [
       "<matplotlib.legend.Legend at 0x7fdb64e91460>"
      ]
     },
     "execution_count": 14,
     "metadata": {},
     "output_type": "execute_result"
    },
    {
     "data": {
      "image/png": "[encoded data removed]",
      "text/plain": [
       "<Figure size 720x216 with 2 Axes>"
      ]
     },
     "metadata": {
      "needs_background": "light"
     },
     "output_type": "display_data"
    }
   ],
   "source": [
    "### Next, plot the FWHM error\n",
    "plt.close()\n",
    "fig,axes=plt.subplots(nrows=1,ncols=2,figsize=(10,3))\n",
    "ax=axes[0]\n",
    "#ax.hist(t_6_fluxerr,bins=np.linspace(-2,1,20),alpha=0.5,color='tomato',label='total flux')\n",
    "ax.hist(t_6_dfwhm,bins=np.linspace(-1,1,20),alpha=0.5,color='purple',label='FWHM error')\n",
    "ax.hist(t_6_dfwhm,bins=np.linspace(-1,1,20),alpha=1.0,color='k',histtype='step',lw=1.2)\n",
    "ax.set_title('flux level \\'\\'6$\\sigma$\\'\\'')\n",
    "ax.set_xlabel('FWHM error')\n",
    "ax.set_ylabel('Counts')\n",
    "ax.legend()\n",
    "\n",
    "ax=axes[1]\n",
    "#ax.hist(t_9_fluxerr,bins=np.linspace(-2,1,20),alpha=0.5,color='tomato',label='total flux')\n",
    "ax.hist(t_9_dfwhm,bins=np.linspace(-1,1,20),alpha=0.5,color='gold',label='FWHM error')\n",
    "ax.hist(t_9_dfwhm,bins=np.linspace(-1,1,20),alpha=1.0,color='k',histtype='step',lw=1.2)\n",
    "ax.set_xlabel('FWHM error')\n",
    "ax.set_ylabel('Counts')\n",
    "ax.set_title('flux level \\'\\'9$\\sigma$\\'\\'')\n",
    "ax.legend()"
   ]
  },
  {
   "cell_type": "code",
   "execution_count": 13,
   "id": "b6eecd57",
   "metadata": {},
   "outputs": [
    {
     "data": {
      "text/plain": [
       "<matplotlib.legend.Legend at 0x7fdb647ff850>"
      ]
     },
     "execution_count": 13,
     "metadata": {},
     "output_type": "execute_result"
    },
    {
     "data": {
      "image/png": "[encoded data removed]",
      "text/plain": [
       "<Figure size 144x216 with 1 Axes>"
      ]
     },
     "metadata": {
      "needs_background": "light"
     },
     "output_type": "display_data"
    }
   ],
   "source": [
    "### finally, plot the rate of recovery (number sources detected out of 10 injected sources)\n",
    "plt.close()\n",
    "fig,ax=plt.subplots(figsize=(2,3))\n",
    "ax.hist(t_9_n,bins=np.linspace(1,11,10),alpha=0.5,label='flux: \\'\\'9$\\sigma$\\'\\'')\n",
    "ax.hist(t_6_n,bins=np.linspace(1,11,10),alpha=0.5,label='flux: \\'\\'6$\\sigma$\\'\\'')\n",
    "ax.set_xlabel('number of sources detected')\n",
    "ax.set_ylabel('number of trials')\n",
    "ax.legend()"
   ]
  },
  {
   "cell_type": "code",
   "execution_count": null,
   "id": "b394340a",
   "metadata": {},
   "outputs": [],
   "source": []
  },
  {
   "cell_type": "code",
   "execution_count": null,
   "id": "3347539e",
   "metadata": {},
   "outputs": [],
   "source": []
  }
 ],
 "metadata": {
  "kernelspec": {
   "display_name": "Python 3 (ipykernel)",
   "language": "python",
   "name": "python3"
  },
  "language_info": {
   "codemirror_mode": {
    "name": "ipython",
    "version": 3
   },
   "file_extension": ".py",
   "mimetype": "text/x-python",
   "name": "python",
   "nbconvert_exporter": "python",
   "pygments_lexer": "ipython3",
   "version": "3.9.7"
  }
 },
 "nbformat": 4,
 "nbformat_minor": 5
}
